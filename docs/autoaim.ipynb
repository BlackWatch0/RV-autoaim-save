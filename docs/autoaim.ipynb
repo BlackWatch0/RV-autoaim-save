{
 "cells": [
  {
   "cell_type": "code",
   "execution_count": 1,
   "metadata": {},
   "outputs": [],
   "source": [
    "import sys\n",
    "sys.path.append(\"..\")\n",
    "from autoaim import *"
   ]
  },
  {
   "cell_type": "code",
   "execution_count": 2,
   "metadata": {},
   "outputs": [],
   "source": [
    "# load an image\n",
    "img = helpers.load('../data/test0/img02.jpg')"
   ]
  },
  {
   "cell_type": "code",
   "execution_count": 3,
   "metadata": {},
   "outputs": [],
   "source": [
    "# show the image\n",
    "helpers.showoff(img)"
   ]
  },
  {
   "cell_type": "code",
   "execution_count": 4,
   "metadata": {},
   "outputs": [
    {
     "name": "stdout",
     "output_type": "stream",
     "text": [
      "find 8 contours\n"
     ]
    }
   ],
   "source": [
    "# extract features\n",
    "feature = Feature(img)\n",
    "print('find {} contours'.format(len(feature.contours)))\n",
    "pipe(img.copy(),\n",
    "     feature.draw_contours,\n",
    "     #  feature.draw_bounding_rects,\n",
    "     feature.draw_rotated_rects,\n",
    "     #  feature.draw_ellipses,\n",
    "     feature.draw_texts()('point_area'),\n",
    "     #  feature.draw_texts()('greyscale'),\n",
    "     helpers.showoff\n",
    "     )"
   ]
  },
  {
   "cell_type": "code",
   "execution_count": null,
   "metadata": {},
   "outputs": [],
   "source": []
  }
 ],
 "metadata": {
  "kernelspec": {
   "display_name": "Python 3",
   "language": "python",
   "name": "python3"
  },
  "language_info": {
   "codemirror_mode": {
    "name": "ipython",
    "version": 3
   },
   "file_extension": ".py",
   "mimetype": "text/x-python",
   "name": "python",
   "nbconvert_exporter": "python",
   "pygments_lexer": "ipython3",
   "version": "3.6.7"
  }
 },
 "nbformat": 4,
 "nbformat_minor": 2
}
