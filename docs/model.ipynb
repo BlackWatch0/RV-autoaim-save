{
 "cells": [
  {
   "cell_type": "code",
   "execution_count": 3,
   "metadata": {},
   "outputs": [
    {
     "name": "stdout",
     "output_type": "stream",
     "text": [
      "Device: GPU.\n"
     ]
    }
   ],
   "source": [
    "import math\n",
    "import matplotlib.pyplot as plt\n",
    "import numpy as np\n",
    "import torch\n",
    "import torch.nn as nn\n",
    "from torch.autograd import Variable\n",
    "import sys\n",
    "sys.path.append(\"..\")\n",
    "import autoaim\n",
    "\n",
    "\n",
    "# Devices\n",
    "if torch.cuda.is_available():\n",
    "    device = torch.device('cuda')\n",
    "    print('Device: GPU.')\n",
    "else:\n",
    "    device = torch.device('cpu')\n",
    "    print('Device: CPU.')\n",
    "\n",
    "# Dataset\n",
    "header, data = autoaim.DataLoader('test.csv').read_csv()\n",
    "data = torch.Tensor(data).to(device)\n",
    "x_train = data[:, :-1]\n",
    "y_train = data[:, -1:]\n",
    "\n",
    "test_data = torch.Tensor([\n",
    "    [1.2/50, pow(1.2/50, 2), 0.0, 0.905],\n",
    "    [0.0186, pow(0.0186, 2), 0.844, 0.8571]\n",
    "]).to(device)"
   ]
  },
  {
   "cell_type": "code",
   "execution_count": null,
   "metadata": {},
   "outputs": [],
   "source": []
  }
 ],
 "metadata": {
  "kernelspec": {
   "display_name": "Python 3",
   "language": "python",
   "name": "python3"
  },
  "language_info": {
   "codemirror_mode": {
    "name": "ipython",
    "version": 3
   },
   "file_extension": ".py",
   "mimetype": "text/x-python",
   "name": "python",
   "nbconvert_exporter": "python",
   "pygments_lexer": "ipython3",
   "version": "3.6.8"
  }
 },
 "nbformat": 4,
 "nbformat_minor": 2
}
