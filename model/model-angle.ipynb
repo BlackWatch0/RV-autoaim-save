{
 "cells": [
  {
   "cell_type": "markdown",
   "metadata": {},
   "source": [
    "终于有个能用的模型了...\n",
    "\n",
    "Todo:\n",
    "- 改进ROC\n",
    "- 尝试每个epoch随机载入数据\n",
    "- 尝试正则化 https://cloud.tencent.com/developer/ask/149180\n",
    "- 特征工程 https://zhuanlan.zhihu.com/p/37880492\n",
    "- weight scale\n",
    "- 考虑样本不平衡 https://zhuanlan.zhihu.com/p/56882616"
   ]
  },
  {
   "cell_type": "code",
   "execution_count": 6,
   "metadata": {},
   "outputs": [
    {
     "name": "stdout",
     "output_type": "stream",
     "text": [
      "Device: GPU.\n",
      "====== Input ======\n",
      "train_dataset_size: 279\n",
      "test_dataset_size: 69\n",
      "input_size: 5\n",
      "decorating\n"
     ]
    }
   ],
   "source": [
    "import math\n",
    "import matplotlib.pyplot as plt\n",
    "import numpy as np\n",
    "import torch\n",
    "import torch.nn as nn\n",
    "from torch.autograd import Variable\n",
    "import sys\n",
    "sys.path.append(\"..\")\n",
    "import autoaim\n",
    "\n",
    "# Devices\n",
    "if torch.cuda.is_available():\n",
    "    device = torch.device('cuda')\n",
    "    print('Device: GPU.')\n",
    "else:\n",
    "    device = torch.device('cpu')\n",
    "    print('Device: CPU.')\n",
    "\n",
    "device = torch.device('cpu')\n",
    "\n",
    "# Dataset\n",
    "def preprocess(t,h):\n",
    "    # shuffling\n",
    "    r = torch.randperm(t.size(0))\n",
    "    t = t[r,:]\n",
    "    # GIVE ME MORE!!\n",
    "    _ = t[:,:-1]\n",
    "    t = torch.cat((_,t[:,-1:]),1)\n",
    "    return t\n",
    "\n",
    "def load(filename):\n",
    "    header, data = autoaim.DataLoader().read_csv(filename)\n",
    "    data = torch.Tensor(data).to(device)\n",
    "    data = preprocess(data,header)\n",
    "    x = data[:, :-1]\n",
    "    y = data[:, -1:]\n",
    "    return x, y, header\n",
    "\n",
    "x_train, y_train, header = load('test_angle_train.csv')\n",
    "x_test, y_test, _ = load('test_angle_test.csv')\n",
    "\n",
    "train_dataset_size = x_train.size(0)\n",
    "test_dataset_size = x_test.size(0)\n",
    "input_size = x_train.size(1)\n",
    "output_size = 1\n",
    "\n",
    "print('====== Input ======')\n",
    "print('train_dataset_size: {}'.format(train_dataset_size))\n",
    "print('test_dataset_size: {}'.format(test_dataset_size))\n",
    "print('input_size: {}'.format(input_size))\n",
    "\n",
    "# Model\n",
    "class Model(torch.nn.Module):\n",
    "\n",
    "    def __init__(self):\n",
    "        super(Model, self).__init__()\n",
    "        self.linear = torch.nn.Linear(input_size, output_size)\n",
    "        self.sigmoid = torch.nn.Sigmoid()\n",
    "\n",
    "    def forward(self, x):\n",
    "        y_pred = self.linear(x)\n",
    "        return y_pred\n",
    "\n",
    "# Training loop\n",
    "@autoaim.helpers.time_this\n",
    "def train(learning_rate, epoch_num):\n",
    "    # Loss and optimizer\n",
    "    criterion = nn.MSELoss(reduction='sum')\n",
    "    optimizer = torch.optim.SGD(model.parameters(),lr=learning_rate)\n",
    "    # Train loop\n",
    "    print('====== Config ======')\n",
    "    print('learning_rate: {}'.format(learning_rate))\n",
    "    print('epoch_num: {}'.format(epoch_num))\n",
    "    for epoch in range(epoch_num):\n",
    "        # Forward pass\n",
    "        y_pred = model(x_train)\n",
    "        loss = criterion(y_pred, y_train)\n",
    "\n",
    "        # Backward and optimize \n",
    "        optimizer.zero_grad()\n",
    "        loss.backward()\n",
    "        optimizer.step()\n",
    "\n",
    "        if epoch == 0 or (epoch+1) % (epoch_num/10) == 0:\n",
    "            y_pred = model(x_test)\n",
    "            loss_test = criterion(y_pred, y_test)\n",
    "            print(\"Epoch: [{!s:6}/{!s:6}], Loss: {:.2f}, Test loss: {:.2f}\"\n",
    "                  .format(epoch+1, epoch_num, loss,loss_test))"
   ]
  },
  {
   "cell_type": "code",
   "execution_count": 12,
   "metadata": {},
   "outputs": [
    {
     "name": "stdout",
     "output_type": "stream",
     "text": [
      "starting timer\n",
      "====== Config ======\n",
      "learning_rate: 1e-05\n",
      "epoch_num: 50000\n",
      "Epoch: [1     /50000 ], Loss: 23493.21, Test loss: 4617.02\n",
      "Epoch: [5000  /50000 ], Loss: 23437.14, Test loss: 4607.22\n",
      "Epoch: [10000 /50000 ], Loss: 23382.30, Test loss: 4596.79\n",
      "Epoch: [15000 /50000 ], Loss: 23327.83, Test loss: 4586.67\n",
      "Epoch: [20000 /50000 ], Loss: 23273.71, Test loss: 4576.78\n",
      "Epoch: [25000 /50000 ], Loss: 23219.92, Test loss: 4567.09\n",
      "Epoch: [30000 /50000 ], Loss: 23166.46, Test loss: 4557.46\n",
      "Epoch: [35000 /50000 ], Loss: 23113.51, Test loss: 4547.49\n",
      "Epoch: [40000 /50000 ], Loss: 23061.00, Test loss: 4537.45\n",
      "Epoch: [45000 /50000 ], Loss: 23008.82, Test loss: 4527.71\n",
      "Epoch: [50000 /50000 ], Loss: 22957.81, Test loss: 4517.92\n",
      "Elapsed Time = 0:00:11.510033\n"
     ]
    }
   ],
   "source": [
    "# model = Model().to(device)\n",
    "# train(0.00003, 100000)\n",
    "train(0.00001, 50000)\n"
   ]
  },
  {
   "cell_type": "code",
   "execution_count": 13,
   "metadata": {},
   "outputs": [
    {
     "name": "stdout",
     "output_type": "stream",
     "text": [
      "Data Distribution\n"
     ]
    },
    {
     "data": {
      "image/png": "[encoded data removed]",
      "text/plain": [
       "<Figure size 432x288 with 1 Axes>"
      ]
     },
     "metadata": {
      "needs_background": "light"
     },
     "output_type": "display_data"
    },
    {
     "name": "stdout",
     "output_type": "stream",
     "text": [
      "ROC\n",
      "true positive: 0\n",
      "false positive: 0\n",
      "true negative: 0\n",
      "false negative: 0\n",
      "\n",
      "Weight\n"
     ]
    },
    {
     "data": {
      "image/png": "[encoded data removed]",
      "text/plain": [
       "<Figure size 432x288 with 1 Axes>"
      ]
     },
     "metadata": {
      "needs_background": "light"
     },
     "output_type": "display_data"
    },
    {
     "name": "stdout",
     "output_type": "stream",
     "text": [
      "w[0] bounding_rect_ratio #1: 146.1248016357422\n"
     ]
    },
    {
     "data": {
      "image/png": "[encoded data removed]",
      "text/plain": [
       "<Figure size 432x288 with 1 Axes>"
      ]
     },
     "metadata": {
      "needs_background": "light"
     },
     "output_type": "display_data"
    },
    {
     "name": "stdout",
     "output_type": "stream",
     "text": [
      "w[1] rotated_rect_angle #1: -13.003761291503906\n"
     ]
    },
    {
     "data": {
      "image/png": "[encoded data removed]",
      "text/plain": [
       "<Figure size 432x288 with 1 Axes>"
      ]
     },
     "metadata": {
      "needs_background": "light"
     },
     "output_type": "display_data"
    },
    {
     "name": "stdout",
     "output_type": "stream",
     "text": [
      "w[2] greyscale #1: -68.21930694580078\n"
     ]
    },
    {
     "data": {
      "image/png": "[encoded data removed]",
      "text/plain": [
       "<Figure size 432x288 with 1 Axes>"
      ]
     },
     "metadata": {
      "needs_background": "light"
     },
     "output_type": "display_data"
    },
    {
     "name": "stdout",
     "output_type": "stream",
     "text": [
      "w[3] point_area #1: 25.69961929321289\n"
     ]
    },
    {
     "data": {
      "image/png": "[encoded data removed]",
      "text/plain": [
       "<Figure size 432x288 with 1 Axes>"
      ]
     },
     "metadata": {
      "needs_background": "light"
     },
     "output_type": "display_data"
    },
    {
     "name": "stdout",
     "output_type": "stream",
     "text": [
      "w[4] bounding_rect_ratio #2: -31.149810791015625\n"
     ]
    }
   ],
   "source": [
    "# Test\n",
    "def analyse(x_anls, y_anls, threshold):\n",
    "    # Predict\n",
    "    y_pred = model(x_anls)\n",
    "\n",
    "    # Convert to numpy array\n",
    "    x_anls, y_anls, y_pred = (t.numpy() for t in [x_anls, y_anls, y_pred])\n",
    "\n",
    "    # Sort\n",
    "    _ = np.argsort(y_test,axis=0)[:,0]\n",
    "    x_anls, y_anls, y_pred = [t[_,:] for t in (x_anls, y_anls, y_pred)]\n",
    "\n",
    "    # Distribution\n",
    "    print('Data Distribution')\n",
    "    x = np.arange(0, y_test.size(0), dtype=int)\n",
    "    # x_anls = np.arange(0, 40, dtype=int)\n",
    "    plt.plot(x, y_anls, 'ro', label='Data')\n",
    "    plt.plot(x, y_pred, 'bo', label='Predict')\n",
    "    plt.legend()\n",
    "    plt.show()\n",
    "\n",
    "    # ROC\n",
    "    print('ROC')\n",
    "    num_positive = len(np.where(y_anls==1)[0])\n",
    "    num_negative = len(np.where(y_anls==0)[0])\n",
    "    _ = np.where(y_pred>=threshold)[0]\n",
    "    num_true_positive = len(np.where(y_anls[_,:]==1)[0])\n",
    "    num_false_positive = len(np.where(y_anls[_,:]==0)[0])\n",
    "    _ = np.where(y_pred<threshold)[0]\n",
    "    num_false_negative = len(np.where(y_anls[_,:]==1)[0])\n",
    "    num_true_negative = len(np.where(y_anls[_,:]==0)[0])\n",
    "    print('true positive: {}'.format(num_true_positive))\n",
    "    print('false positive: {}'.format(num_false_positive))\n",
    "    print('true negative: {}'.format(num_true_negative))\n",
    "    print('false negative: {}\\n'.format(num_false_negative))\n",
    "\n",
    "    # Weight\n",
    "    x = np.linspace(0,1)\n",
    "    w = [wi.data.cpu() for wi in model.parameters()]\n",
    "    w = torch.cat((w[0][0],w[1])).numpy()\n",
    "    print('Weight')\n",
    "    b = w[-1]\n",
    "    for i in range(input_size):\n",
    "        a = w[i]\n",
    "        y = a*x+b\n",
    "        _ = np.argsort(x_anls[:,i])\n",
    "        plt.plot(x_anls[_, i], y_pred, 'bo', label='Predict')\n",
    "        plt.plot(x_anls[_, i], y_anls, 'ro', label='Data')\n",
    "        plt.legend()\n",
    "        plt.show()\n",
    "        _1, _2 = i%(len(header) - 1), int((i+1)/len(header)+1)\n",
    "        print('w[{}] {} #{}: {}'.format(i, header[_1], _2, w[i]))\n",
    "# Save     \n",
    "def save(filename):\n",
    "    dataloader = autoaim.DataLoader()\n",
    "    dataloader.new_csv(filename, autoaim.feature.enabled_props)\n",
    "    w = [wi.data.cpu() for wi in model.parameters()]\n",
    "    w = torch.cat((w[0][0], w[1])).numpy()\n",
    "    dataloader.append_csv(filename, w)\n",
    "    \n",
    "\n",
    "with torch.no_grad():\n",
    "#     x_test, y_test,*_ = load('test.csv', 0)\n",
    "    save('angle_weight.csv')\n",
    "    analyse(x_test, y_test, 0.5)\n",
    "    "
   ]
  },
  {
   "cell_type": "code",
   "execution_count": 89,
   "metadata": {},
   "outputs": [
    {
     "data": {
      "text/plain": [
       "tensor([54,  1, 21, 46, 38, 16, 10,  0, 51, 39, 14, 68,  8, 31, 62, 61, 56, 24,\n",
       "        66, 45, 53, 37, 60, 28, 12, 32, 59, 63, 52, 36, 50, 44, 42, 65, 40, 34,\n",
       "        33, 18,  7, 23, 64, 58, 55, 67,  4,  3, 43, 35, 13, 48, 49, 25, 22,  2,\n",
       "        30,  6,  9, 17, 19, 27, 26, 11, 29, 47, 57,  5, 15, 41, 20])"
      ]
     },
     "execution_count": 89,
     "metadata": {},
     "output_type": "execute_result"
    }
   ],
   "source": [
    "np.argsort(x_test[:,0])"
   ]
  },
  {
   "cell_type": "code",
   "execution_count": 87,
   "metadata": {},
   "outputs": [
    {
     "data": {
      "text/plain": [
       "tensor([0.0150, 0.0050, 0.0500, 0.0450, 0.0450, 0.0600, 0.0500, 0.0400, 0.0150,\n",
       "        0.0550, 0.0100, 0.0550, 0.0350, 0.0500, 0.0150, 0.0600, 0.0100, 0.0550,\n",
       "        0.0400, 0.0550, 0.0600, 0.0050, 0.0500, 0.0400, 0.0200, 0.0500, 0.0550,\n",
       "        0.0550, 0.0350, 0.0550, 0.0500, 0.0200, 0.0350, 0.0400, 0.0400, 0.0500,\n",
       "        0.0350, 0.0300, 0.0100, 0.0150, 0.0400, 0.0600, 0.0400, 0.0450, 0.0400,\n",
       "        0.0250, 0.0100, 0.0550, 0.0500, 0.0500, 0.0400, 0.0150, 0.0350, 0.0300,\n",
       "        0.0000, 0.0450, 0.0200, 0.0550, 0.0450, 0.0350, 0.0300, 0.0200, 0.0200,\n",
       "        0.0350, 0.0450, 0.0400, 0.0250, 0.0450, 0.0150])"
      ]
     },
     "execution_count": 87,
     "metadata": {},
     "output_type": "execute_result"
    }
   ],
   "source": [
    "x_test[:,0]"
   ]
  },
  {
   "cell_type": "code",
   "execution_count": null,
   "metadata": {},
   "outputs": [],
   "source": []
  }
 ],
 "metadata": {
  "kernelspec": {
   "display_name": "Python 3",
   "language": "python",
   "name": "python3"
  },
  "language_info": {
   "codemirror_mode": {
    "name": "ipython",
    "version": 3
   },
   "file_extension": ".py",
   "mimetype": "text/x-python",
   "name": "python",
   "nbconvert_exporter": "python",
   "pygments_lexer": "ipython3",
   "version": "3.6.8"
  }
 },
 "nbformat": 4,
 "nbformat_minor": 2
}
