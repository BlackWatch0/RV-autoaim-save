{
 "cells": [
  {
   "cell_type": "code",
   "execution_count": 1,
   "metadata": {},
   "outputs": [],
   "source": [
    "import sys\n",
    "sys.path.append(\"..\")\n",
    "import cv2\n",
    "import numpy as np\n",
    "from autoaim import *"
   ]
  },
  {
   "cell_type": "code",
   "execution_count": 8,
   "metadata": {},
   "outputs": [],
   "source": [
    "# load an image\n",
    "img = helpers.load('../data/test7/img80.jpg')"
   ]
  },
  {
   "cell_type": "code",
   "execution_count": 9,
   "metadata": {},
   "outputs": [],
   "source": [
    "# show the image\n",
    "feature = Feature(img)\n",
    "#helpers.showoff(feature.mat)"
   ]
  },
  {
   "cell_type": "code",
   "execution_count": null,
   "metadata": {},
   "outputs": [
    {
     "name": "stdout",
     "output_type": "stream",
     "text": [
      "find 11 contours\n"
     ]
    }
   ],
   "source": [
    "# extract features\n",
    "print('find {} contours'.format(len(feature.contours)))\n",
    "feature.calc([\n",
    "    'contours',\n",
    "    'bounding_rects',\n",
    "    'rotated_rects',\n",
    "    'greyscales',\n",
    "    'point_areas',\n",
    "])\n",
    "pipe(img.copy(),\n",
    "     feature.draw_contours,\n",
    "     #  feature.draw_bounding_rects,\n",
    "     feature.draw_rotated_rects,\n",
    "     #  feature.draw_ellipses,\n",
    "     feature.draw_texts()(lambda x: x.rotated_rect[2]),\n",
    "#      feature.draw_texts()(lambda x: x.bounding_rect_area),\n",
    "     helpers.showoff\n",
    "     )"
   ]
  },
  {
   "cell_type": "code",
   "execution_count": null,
   "metadata": {},
   "outputs": [],
   "source": []
  }
 ],
 "metadata": {
  "kernelspec": {
   "display_name": "Python 3",
   "language": "python",
   "name": "python3"
  },
  "language_info": {
   "codemirror_mode": {
    "name": "ipython",
    "version": 3
   },
   "file_extension": ".py",
   "mimetype": "text/x-python",
   "name": "python",
   "nbconvert_exporter": "python",
   "pygments_lexer": "ipython3",
   "version": "3.6.8"
  }
 },
 "nbformat": 4,
 "nbformat_minor": 2
}
