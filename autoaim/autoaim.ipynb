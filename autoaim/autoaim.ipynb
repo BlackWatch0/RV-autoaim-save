{
 "cells": [
  {
   "cell_type": "code",
   "execution_count": 2,
   "metadata": {},
   "outputs": [],
   "source": [
    "import sys\n",
    "sys.path.append(\"..\")\n",
    "import cv2\n",
    "import numpy as np\n",
    "from autoaim import *"
   ]
  },
  {
   "cell_type": "code",
   "execution_count": 7,
   "metadata": {},
   "outputs": [],
   "source": [
    "# load an image\n",
    "img = helpers.load('../data/test7/img44.jpg')"
   ]
  },
  {
   "cell_type": "code",
   "execution_count": 8,
   "metadata": {},
   "outputs": [],
   "source": [
    "# make the prediction\n",
    "predictor = Predictor('weight.csv')\n",
    "predictor.predict(img, mode='red')"
   ]
  },
  {
   "cell_type": "code",
   "execution_count": null,
   "metadata": {},
   "outputs": [],
   "source": [
    "# extract features\n",
    "feature = Feature(img)\n",
    "print('find {} contours'.format(len(feature.contours)))\n",
    "feature.calc([\n",
    "    'contours',\n",
    "    'bounding_rects',\n",
    "    'rotated_rects',\n",
    "    'greyscales',\n",
    "    'point_areas',\n",
    "])\n",
    "pipe(img.copy(),\n",
    "     feature.draw_contours,\n",
    "     #  feature.draw_bounding_rects,\n",
    "     feature.draw_rotated_rects,\n",
    "     #  feature.draw_ellipses,\n",
    "#      feature.draw_texts()(lambda x: '{:.1f},{:.1f},{:.1f}'.format(*x.rotated_rect[1],x.rotated_rect[2])),\n",
    "     feature.draw_texts()(lambda x: ),\n",
    "     helpers.showoff\n",
    "     )"
   ]
  }
 ],
 "metadata": {
  "kernelspec": {
   "display_name": "Python 3",
   "language": "python",
   "name": "python3"
  },
  "language_info": {
   "codemirror_mode": {
    "name": "ipython",
    "version": 3
   },
   "file_extension": ".py",
   "mimetype": "text/x-python",
   "name": "python",
   "nbconvert_exporter": "python",
   "pygments_lexer": "ipython3",
   "version": "3.6.8"
  }
 },
 "nbformat": 4,
 "nbformat_minor": 2
}
